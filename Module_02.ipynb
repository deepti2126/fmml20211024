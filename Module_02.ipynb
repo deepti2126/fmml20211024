{
  "nbformat": 4,
  "nbformat_minor": 0,
  "metadata": {
    "colab": {
      "name": "Module -02",
      "provenance": [],
      "collapsed_sections": [],
      "include_colab_link": true
    },
    "kernelspec": {
      "name": "python3",
      "display_name": "Python 3"
    },
    "language_info": {
      "name": "python"
    }
  },
  "cells": [
    {
      "cell_type": "markdown",
      "metadata": {
        "id": "view-in-github",
        "colab_type": "text"
      },
      "source": [
        "<a href=\"https://colab.research.google.com/github/deepti2126/fmml20211024/blob/main/Module_02.ipynb\" target=\"_parent\"><img src=\"https://colab.research.google.com/assets/colab-badge.svg\" alt=\"Open In Colab\"/></a>"
      ]
    },
    {
      "cell_type": "code",
      "execution_count": null,
      "metadata": {
        "id": "By497kknhe1j"
      },
      "outputs": [],
      "source": [
        "vehicle_bucket = ['TN01', 'KA03', 'TS01', 'KA04', 'AP04', 'KL01', 'TS03']"
      ]
    },
    {
      "cell_type": "code",
      "source": [
        "KA_vehicle = []"
      ],
      "metadata": {
        "id": "zSfvRcBtiCZ6"
      },
      "execution_count": null,
      "outputs": []
    },
    {
      "cell_type": "code",
      "source": [
        "for each_item in vehicle_bucket:\n",
        "  if 'KA' in each_item:\n",
        "    KA_vehicle.append(each_item)"
      ],
      "metadata": {
        "id": "IGeJWa1uiHeD"
      },
      "execution_count": null,
      "outputs": []
    },
    {
      "cell_type": "code",
      "source": [
        "KA_vehicle"
      ],
      "metadata": {
        "colab": {
          "base_uri": "https://localhost:8080/"
        },
        "id": "2uiLwnbmiPrj",
        "outputId": "9d9fe391-c8b6-478b-f0e6-2974cc9c6680"
      },
      "execution_count": null,
      "outputs": [
        {
          "output_type": "execute_result",
          "data": {
            "text/plain": [
              "['KA03', 'KA04']"
            ]
          },
          "metadata": {},
          "execution_count": 4
        }
      ]
    },
    {
      "cell_type": "code",
      "source": [
        "# list comprehension\n",
        "KA_list = [each_item for each_item in vehicle_bucket if 'KA' in each_item]"
      ],
      "metadata": {
        "id": "SCcGdga6iZKs"
      },
      "execution_count": null,
      "outputs": []
    },
    {
      "cell_type": "code",
      "source": [
        "KA_list"
      ],
      "metadata": {
        "id": "ggsjEZ7sim6C"
      },
      "execution_count": null,
      "outputs": []
    },
    {
      "cell_type": "code",
      "source": [
        "import random"
      ],
      "metadata": {
        "id": "CnZmDgpBi2Lk"
      },
      "execution_count": null,
      "outputs": []
    },
    {
      "cell_type": "code",
      "source": [
        "random.random()"
      ],
      "metadata": {
        "id": "vV7Yc1m6jFDc"
      },
      "execution_count": null,
      "outputs": []
    },
    {
      "cell_type": "code",
      "source": [
        "my_random_list = [random.randint(18, 24) for i in range(20)]"
      ],
      "metadata": {
        "id": "yMm93d6Fjbk-"
      },
      "execution_count": null,
      "outputs": []
    },
    {
      "cell_type": "code",
      "source": [
        "my_random_list"
      ],
      "metadata": {
        "colab": {
          "base_uri": "https://localhost:8080/"
        },
        "id": "LM1OKlKgjpJk",
        "outputId": "3de096c9-0264-4787-ef6d-e0d2408e603c"
      },
      "execution_count": null,
      "outputs": [
        {
          "output_type": "execute_result",
          "data": {
            "text/plain": [
              "[23,\n",
              " 23,\n",
              " 22,\n",
              " 18,\n",
              " 24,\n",
              " 23,\n",
              " 20,\n",
              " 23,\n",
              " 20,\n",
              " 24,\n",
              " 24,\n",
              " 23,\n",
              " 22,\n",
              " 19,\n",
              " 24,\n",
              " 23,\n",
              " 19,\n",
              " 18,\n",
              " 20,\n",
              " 24]"
            ]
          },
          "metadata": {},
          "execution_count": 10
        }
      ]
    },
    {
      "cell_type": "code",
      "source": [
        "my_random_list"
      ],
      "metadata": {
        "colab": {
          "base_uri": "https://localhost:8080/"
        },
        "id": "PqudA6xMkMOb",
        "outputId": "846aa2b9-73ac-4128-817a-5e4a8b3b16fd"
      },
      "execution_count": null,
      "outputs": [
        {
          "output_type": "execute_result",
          "data": {
            "text/plain": [
              "[23,\n",
              " 23,\n",
              " 22,\n",
              " 18,\n",
              " 24,\n",
              " 23,\n",
              " 20,\n",
              " 23,\n",
              " 20,\n",
              " 24,\n",
              " 24,\n",
              " 23,\n",
              " 22,\n",
              " 19,\n",
              " 24,\n",
              " 23,\n",
              " 19,\n",
              " 18,\n",
              " 20,\n",
              " 24]"
            ]
          },
          "metadata": {},
          "execution_count": 11
        }
      ]
    },
    {
      "cell_type": "code",
      "source": [
        "import matplotlib.pyplot as plt"
      ],
      "metadata": {
        "id": "nK0Frp6ikmXP"
      },
      "execution_count": null,
      "outputs": []
    },
    {
      "cell_type": "code",
      "source": [
        "import math"
      ],
      "metadata": {
        "id": "Ge62dFrOldQj"
      },
      "execution_count": null,
      "outputs": []
    },
    {
      "cell_type": "code",
      "source": [
        "math.sqrt(6)"
      ],
      "metadata": {
        "colab": {
          "base_uri": "https://localhost:8080/"
        },
        "id": "lZ0lBSXQlfwz",
        "outputId": "eef144f6-56a0-4ade-dc62-b70f23bbc80e"
      },
      "execution_count": null,
      "outputs": [
        {
          "output_type": "execute_result",
          "data": {
            "text/plain": [
              "2.449489742783178"
            ]
          },
          "metadata": {},
          "execution_count": 14
        }
      ]
    },
    {
      "cell_type": "code",
      "source": [
        "my_sqrt_list = [math.sqrt(each_item) for each_item in my_random_list]"
      ],
      "metadata": {
        "id": "Zb0Dnj1ylXo-"
      },
      "execution_count": null,
      "outputs": []
    },
    {
      "cell_type": "code",
      "source": [
        "plt.xlabel('X')\n",
        "plt.ylabel('Random(X)')\n",
        "plt.plot(my_random_list, label='random function');\n",
        "plt.plot(my_sqrt_list, label='square roots of random numbers');\n",
        "plt.legend();"
      ],
      "metadata": {
        "colab": {
          "base_uri": "https://localhost:8080/",
          "height": 279
        },
        "id": "6xq_qLQ_kwZS",
        "outputId": "76ae47df-fe3e-443a-c025-85832a18cc2f"
      },
      "execution_count": null,
      "outputs": [
        {
          "output_type": "display_data",
          "data": {
            "image/png": "[encoded data removed]",
            "text/plain": [
              "<Figure size 432x288 with 1 Axes>"
            ]
          },
          "metadata": {
            "needs_background": "light"
          }
        }
      ]
    }
  ]
}